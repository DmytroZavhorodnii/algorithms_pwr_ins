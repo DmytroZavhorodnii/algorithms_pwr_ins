{
 "cells": [
  {
   "cell_type": "code",
   "execution_count": 4,
   "id": "e6ebc37d-ec5f-48fc-9d77-0be2b3ce1e69",
   "metadata": {},
   "outputs": [],
   "source": [
    "#1 a"
   ]
  },
  {
   "cell_type": "code",
   "execution_count": 1,
   "id": "7fbdeb8a-c783-42ab-b4cd-3a8d579d884c",
   "metadata": {},
   "outputs": [
    {
     "name": "stdout",
     "output_type": "stream",
     "text": [
      "Odległość Hamminga: 1\n"
     ]
    }
   ],
   "source": [
    "def hamming_distance(str1, str2):\n",
    "    len_str1 = len(str1)\n",
    "    len_str2 = len(str2)\n",
    "    max_len = max(len_str1, len_str2)\n",
    "    \n",
    "    distance = abs(len_str1 - len_str2)  # Obsługa różnych długości ciągów\n",
    "    \n",
    "    for i in range(min(len_str1, len_str2)):\n",
    "        if str1[i] != str2[i]:\n",
    "            distance += 1\n",
    "    return distance\n",
    "\n",
    "# Przykładowe użycie\n",
    "str1 = \"dasana\"\n",
    "str2 = \"sasana\"\n",
    "print(\"Odległość Hamminga:\", hamming_distance(str1, str2))\n"
   ]
  },
  {
   "cell_type": "code",
   "execution_count": 7,
   "id": "8fceab17-dc60-4e1c-b222-c034a2e4779a",
   "metadata": {},
   "outputs": [],
   "source": [
    "#b"
   ]
  },
  {
   "cell_type": "code",
   "execution_count": 10,
   "id": "92566ae6-d4e9-42d1-8308-f01b6061d322",
   "metadata": {},
   "outputs": [
    {
     "name": "stdout",
     "output_type": "stream",
     "text": [
      "Odległość Hamminga (z uwzględnieniem klawiatury): 2\n"
     ]
    }
   ],
   "source": [
    "keyboard_layout = {\n",
    "    'a': (0, 0), 'b': (0, 1), 'c': (0, 2), 'd': (0, 3), 'e': (0, 4), 'f': (0, 5), 'g': (0, 6), 'h': (0, 7), 'i': (0, 8), 'j': (0, 9), 'k': (0, 10), 'l': (0, 11), 'm': (0, 12),\n",
    "    'n': (1, 0), 'o': (1, 1), 'p': (1, 2), 'q': (1, 3), 'r': (1, 4), 's': (1, 5), 't': (1, 6), 'u': (1, 7), 'v': (1, 8), 'w': (1, 9), 'x': (1, 10), 'y': (1, 11), 'z': (1, 12)\n",
    "}\n",
    "\n",
    "def char_distance(char1, char2):\n",
    "    if char1 == char2:\n",
    "        return 0\n",
    "    row1, col1 = keyboard_layout[char1.lower()]\n",
    "    row2, col2 = keyboard_layout[char2.lower()]\n",
    "    if row1 == row2 and abs(col1 - col2) == 1:\n",
    "        return 1  # Sąsiednie litery na klawiaturze\n",
    "    return 2  # Niesąsiednie litery na klawiaturze\n",
    "\n",
    "def hamming_distance_with_keyboard(str1, str2):\n",
    "    len_str1 = len(str1)\n",
    "    len_str2 = len(str2)\n",
    "    max_len = max(len_str1, len_str2)\n",
    "    \n",
    "    distance = abs(len_str1 - len_str2)  # Obsługa różnych długości ciągów\n",
    "    \n",
    "    for i in range(min(len_str1, len_str2)):\n",
    "        distance += char_distance(str1[i], str2[i])\n",
    "    return distance\n",
    "\n",
    "# Przykładowe użycie\n",
    "str1 = \"dasana\"\n",
    "str2 = \"sasana\"\n",
    "print(\"Odległość Hamminga (z uwzględnieniem klawiatury):\", hamming_distance_with_keyboard(str1, str2))\n"
   ]
  },
  {
   "cell_type": "code",
   "execution_count": 5,
   "id": "ee7ba813-66fc-429a-9d87-bee018f0311e",
   "metadata": {},
   "outputs": [],
   "source": [
    "#c"
   ]
  },
  {
   "cell_type": "code",
   "execution_count": null,
   "id": "f9e99819-3cbf-4085-8a58-cfdf05cb1e18",
   "metadata": {},
   "outputs": [],
   "source": [
    "keyboard_layout = {\n",
    "    'a': (0, 0), 'b': (0, 1), 'c': (0, 2), 'd': (0, 3), 'e': (0, 4), 'f': (0, 5), 'g': (0, 6), 'h': (0, 7), 'i': (0, 8), 'j': (0, 9), 'k': (0, 10), 'l': (0, 11), 'm': (0, 12),\n",
    "    'n': (1, 0), 'o': (1, 1), 'p': (1, 2), 'q': (1, 3), 'r': (1, 4), 's': (1, 5), 't': (1, 6), 'u': (1, 7), 'v': (1, 8), 'w': (1, 9), 'x': (1, 10), 'y': (1, 11), 'z': (1, 12),\n",
    "    'ą': (0, 0), 'ć': (0, 2), 'ę': (0, 4), 'ł': (0, 6), 'ń': (0, 8), 'ó': (0, 10), 'ś': (1, 1), 'ż': (1, 9), 'ź': (1, 11)\n",
    "}\n",
    "#(номер строки, нормер столюца)\n",
    "\n",
    "\n",
    "dictionary = [\n",
    "    \"kot\", \"pies\", \"ryba\", \"dom\", \"szkoła\", \"książka\", \"samochód\", \"komputer\", \"telefon\", \"telewizor\",\n",
    "    \"jedzenie\", \"napój\", \"ciasto\", \"pizza\", \"laptop\", \"góra\", \"morze\", \"jezioro\", \"las\", \"park\",\n",
    "    \"kwiatek\", \"trawa\", \"chmura\", \"słońce\", \"księżyc\", \"gwiazda\", \"planeta\", \"galaktyka\", \"wszechświat\",\n",
    "    \"natura\", \"technologia\", \"muzyka\", \"film\", \"gra\", \"sport\", \"zdrowie\", \"pieniądze\", \"praca\", \"rodzina\",\n",
    "    \"miłość\", \"przyjaźń\", \"szczęście\", \"emocje\", \"pasja\", \"marzenia\", \"cel\", \"wybór\", \"decyzja\", \"prawda\",\n",
    "    \"fałsz\", \"życie\", \"śmierć\", \"czas\", \"historia\", \"przyszłość\", \"wspomnienie\", \"sen\", \"rzeczywistość\",\n",
    "    \"fantazja\", \"tajemnica\", \"kłopot\", \"problem\", \"rozwiązanie\", \"szansa\", \"równowaga\", \"harmonia\", \"chaos\",\n",
    "    \"porządek\", \"rozum\", \"inteligencja\", \"wiedza\", \"mądrość\", \"nauka\", \"edukacja\", \"książka\", \"studia\",\n",
    "    \"szkoła\", \"lekcja\", \"nauczyciel\", \"uczeń\", \"klasa\", \"egzamin\", \"ocena\", \"dyplom\", \"absolwent\", \"student\",\n",
    "    \"kierunek\", \"przedmiot\", \"wykład\", \"laboratorium\", \"projekt\", \"badanie\", \"praca\", \"kurs\", \"seminarium\"\n",
    "]\n",
    "\n",
    "def char_distance(char1, char2):\n",
    "    if char1 == char2:\n",
    "        return 0\n",
    "    row1, col1 = keyboard_layout[char1.lower()]\n",
    "    row2, col2 = keyboard_layout[char2.lower()]\n",
    "    if row1 == row2 and abs(col1 - col2) == 1:\n",
    "        return 1  # Sąsiednie litery na klawiaturze\n",
    "    return 2  # Niesąsiednie litery na klawiaturze\n",
    "\n",
    "def hamming_distance_with_keyboard(str1, str2):\n",
    "    len_str1 = len(str1)\n",
    "    len_str2 = len(str2)\n",
    "    max_len = max(len_str1, len_str2)\n",
    "    \n",
    "    distance = abs(len_str1 - len_str2)  # Obsługa różnych długości ciągów\n",
    "    \n",
    "    for i in range(min(len_str1, len_str2)):\n",
    "        distance += char_distance(str1[i], str2[i])\n",
    "    return distance\n",
    "\n",
    "def find_similar_words(word, dictionary):\n",
    "    similar_words = []\n",
    "    for dict_word in dictionary:\n",
    "        distance = hamming_distance_with_keyboard(word, dict_word)\n",
    "        if distance == 0:\n",
    "            return \"OK\"  # Słowo znajduje się w słowniku\n",
    "        similar_words.append((dict_word, distance))\n",
    "    similar_words.sort(key=lambda x: x[1])  # Sortowanie względem odległości\n",
    "    return [word[0] for word in similar_words[:3]]  # Zwracanie trzech najbardziej podobnych słów\n",
    "\n",
    "# Przykładowe użycie\n",
    "input_word = input(\"Wprowadź słowo: \").lower()\n",
    "result = find_similar_words(input_word, dictionary)\n",
    "if result == \"OK\":\n",
    "    print(\"OK\")\n",
    "else:\n",
    "    print(\"Podobne słowa:\", result)\n"
   ]
  },
  {
   "cell_type": "code",
   "execution_count": null,
   "id": "3dd3f10c-af96-43ea-8459-4da03dcc022a",
   "metadata": {},
   "outputs": [],
   "source": [
    "#2"
   ]
  },
  {
   "cell_type": "code",
   "execution_count": 14,
   "id": "16c70e75-dfcc-4ebf-87b3-28d3dded41cc",
   "metadata": {},
   "outputs": [
    {
     "name": "stdout",
     "output_type": "stream",
     "text": [
      "Tekst został napisany w języku: niemiecki\n"
     ]
    }
   ],
   "source": [
    "import re\n",
    "import math\n",
    "\n",
    "# Funkcja do analizy częstości liter w tekście\n",
    "def analyze_text_frequency(text):\n",
    "    text = text.lower()\n",
    "    text = re.sub(r'[^a-z]', '', text)  # Usunięcie znaków specjalnych i cyfr\n",
    "    freq_table = [0] * 26  # Tablica częstości liter dla alfabetu angielskiego\n",
    "    total_letters = len(text)\n",
    "    for char in text:\n",
    "        index = ord(char) - ord('a')\n",
    "        freq_table[index] += 1\n",
    "    freq_table = [freq / total_letters for freq in freq_table]  # Normalizacja\n",
    "    return freq_table\n",
    "\n",
    "# Tablice częstości liter dla różnych języków\n",
    "polish_freq = [0.0891, 0.0147, 0.0396, 0.0325, 0.0766, 0.0300, 0.0142, 0.0108, 0.0821, 0.0143, 0.0250, 0.0278, 0.0182,\n",
    "               0.0250, 0.0625, 0.0069, 0.0025, 0.0568, 0.0509, 0.0285, 0.0242, 0.0005, 0.0513, 0.0004, 0.0376, 0.0476]\n",
    "\n",
    "english_freq = [0.08167, 0.01492, 0.02782, 0.04253, 0.12702, 0.02228, 0.02015, 0.06094, 0.06966, 0.00153, 0.00772, 0.04025,\n",
    "                0.02406, 0.06749, 0.07507, 0.01929, 0.00095, 0.05987, 0.06327, 0.09056, 0.02758, 0.00978, 0.02360, 0.00150,\n",
    "                0.01974, 0.00074]\n",
    "\n",
    "german_freq = [0.0652, 0.0189, 0.0273, 0.0508, 0.1639, 0.0166, 0.0301, 0.0458, 0.0655, 0.0027, 0.0142, 0.0344, 0.0253,\n",
    "               0.0978, 0.0259, 0.0067, 0.0018, 0.0700, 0.0727, 0.0615, 0.0417, 0.0085, 0.0192, 0.0034, 0.0039, 0.0113]\n",
    "\n",
    "# Funkcja porównująca tablice częstości\n",
    "def compare_frequency(text_freq, lang_freq):\n",
    "    distance = math.sqrt(sum((x - y) ** 2 for x, y in zip(text_freq, lang_freq)))\n",
    "    return distance\n",
    "\n",
    "# Funkcja rozpoznająca język tekstu\n",
    "def detect_language(text):\n",
    "    text_freq = analyze_text_frequency(text)\n",
    "    polish_distance = compare_frequency(text_freq, polish_freq)\n",
    "    english_distance = compare_frequency(text_freq, english_freq)\n",
    "    german_distance = compare_frequency(text_freq, german_freq)\n",
    "    min_distance = min(polish_distance, english_distance, german_distance)\n",
    "    if min_distance == polish_distance:\n",
    "        return \"polski\"\n",
    "    elif min_distance == english_distance:\n",
    "        return \"angielski\"\n",
    "    else:\n",
    "        return \"niemiecki\"\n",
    "\n",
    "# Przykładowe użycie\n",
    "sample_text = \"Guten morgen\"\n",
    "language = detect_language(sample_text)\n",
    "print(\"Tekst został napisany w języku:\", language)\n"
   ]
  },
  {
   "cell_type": "code",
   "execution_count": null,
   "id": "e7c6a71f-3c75-473d-aa52-404ae7452d20",
   "metadata": {},
   "outputs": [],
   "source": [
    "#b-c"
   ]
  },
  {
   "cell_type": "code",
   "execution_count": 8,
   "id": "9f63eb75-d03a-41e2-a87e-e42093f73997",
   "metadata": {},
   "outputs": [
    {
     "name": "stdout",
     "output_type": "stream",
     "text": [
      "Tekst został napisany w języku: niemiecki\n"
     ]
    }
   ],
   "source": [
    "import re\n",
    "import math\n",
    "\n",
    "# Funkcja do analizy częstości samogłosek i spółgłosek w tekście\n",
    "def analyze_consonant_vowel_frequency(text):\n",
    "    text = text.lower()\n",
    "    text = re.sub(r'[^a-z]', '', text)  # Usunięcie znaków specjalnych i cyfr\n",
    "    vowels = ['a', 'e', 'i', 'o', 'u', 'y']  # Samogłoski w języku angielskim i polskim\n",
    "    consonants = ['b', 'c', 'd', 'f', 'g', 'h', 'j', 'k', 'l', 'm', 'n', 'p', 'q', 'r', 's', 't', 'v', 'w', 'x', 'z']  # Spółgłoski w języku angielskim i polskim\n",
    "    vowel_count = sum(text.count(vowel) for vowel in vowels)\n",
    "    consonant_count = sum(text.count(consonant) for consonant in consonants)\n",
    "    total_letters = vowel_count + consonant_count\n",
    "    vowel_freq = vowel_count / total_letters if total_letters > 0 else 0\n",
    "    consonant_freq = consonant_count / total_letters if total_letters > 0 else 0\n",
    "    return vowel_freq, consonant_freq\n",
    "\n",
    "# Skrócone tablice częstości samogłosek i spółgłosek dla różnych języków\n",
    "polish_freq_short = (0.352, 0.648)  # Polski: częstość samogłosek, częstość spółgłosek\n",
    "english_freq_short = (0.391, 0.609)  # Angielski: częstość samogłosek, częstość spółgłosek\n",
    "german_freq_short = (0.394, 0.606)  # Niemiecki: częstość samogłosek, częstość spółgłosek\n",
    "\n",
    "# Funkcja porównująca częstość samogłosek i spółgłosek\n",
    "def compare_consonant_vowel_frequency(text_freq, lang_freq):\n",
    "    distance = math.sqrt(sum((x - y) ** 2 for x, y in zip(text_freq, lang_freq)))\n",
    "    return distance\n",
    "\n",
    "# Funkcja rozpoznająca język tekstu na podstawie częstości samogłosek i spółgłosek\n",
    "def detect_language_consonant_vowel(text):\n",
    "    text_freq = analyze_consonant_vowel_frequency(text)\n",
    "    polish_distance = compare_consonant_vowel_frequency(text_freq, polish_freq_short)\n",
    "    english_distance = compare_consonant_vowel_frequency(text_freq, english_freq_short)\n",
    "    german_distance = compare_consonant_vowel_frequency(text_freq, german_freq_short)\n",
    "    min_distance = min(polish_distance, english_distance, german_distance)\n",
    "    if min_distance == polish_distance:\n",
    "        return \"polski\"\n",
    "    elif min_distance == english_distance:\n",
    "        return \"angielski\"\n",
    "    else:\n",
    "        return \"niemiecki\"\n",
    "\n",
    "sample_text = \"Weiße überkatzen\"\n",
    "language = detect_language_consonant_vowel(sample_text)\n",
    "print(\"Tekst został napisany w języku:\", language)\n"
   ]
  },
  {
   "cell_type": "code",
   "execution_count": null,
   "id": "30aecdfc-c828-4e87-9771-019830d6213b",
   "metadata": {},
   "outputs": [],
   "source": [
    "#3"
   ]
  },
  {
   "cell_type": "code",
   "execution_count": 18,
   "id": "ad34a6fb-f3bc-4835-9938-af4f30c67ff2",
   "metadata": {},
   "outputs": [
    {
     "name": "stdout",
     "output_type": "stream",
     "text": [
      "Najdłuższy wspólny podciąg dla konwalia i zawalina wynosi: 5\n"
     ]
    }
   ],
   "source": [
    "def longest_common_subsequence(text1, text2):\n",
    "    m = len(text1)\n",
    "    n = len(text2)\n",
    "\n",
    "    # Inicjalizacja tablicy LCS\n",
    "    lcs = [[0] * (n + 1) for _ in range(m + 1)]\n",
    "\n",
    "    # Wypełnienie tablicy LCS\n",
    "    for i in range(1, m + 1):\n",
    "        for j in range(1, n + 1):\n",
    "            if text1[i - 1] == text2[j - 1]:\n",
    "                lcs[i][j] = lcs[i - 1][j - 1] + 1\n",
    "            else:\n",
    "                lcs[i][j] = max(lcs[i - 1][j], lcs[i][j - 1])\n",
    "\n",
    "    # Zwracanie najdłuższego wspólnego podciągu\n",
    "    return lcs[m][n]\n",
    "\n",
    "# Przykładowe użycie\n",
    "text1 = \"konwalia\"\n",
    "text2 = \"zawalina\"\n",
    "result = longest_common_subsequence(text1, text2)\n",
    "print(\"Najdłuższy wspólny podciąg dla\", text1, \"i\", text2, \"wynosi:\", result)\n"
   ]
  },
  {
   "cell_type": "code",
   "execution_count": 9,
   "id": "a762280f-469d-442a-b9a3-4c4a35173bda",
   "metadata": {},
   "outputs": [
    {
     "name": "stdout",
     "output_type": "stream",
     "text": [
      "Najdłuższy wspólny podciąg z przerwami dla ApqBCrDsEF i tABuCvDEwxFyz wynosi: 6\n"
     ]
    }
   ],
   "source": [
    "def longest_common_subsequence_with_gaps(text1, text2):\n",
    "    m = len(text1)\n",
    "    n = len(text2)\n",
    "\n",
    "    # Inicjalizacja macierzy z przerwami\n",
    "    lcs = [[0] * (n + 1) for _ in range(m + 1)]\n",
    "\n",
    "    # Wypełnienie macierzy z przerwami\n",
    "    for i in range(1, m + 1):\n",
    "        for j in range(1, n + 1):\n",
    "            if text1[i - 1] == text2[j - 1]:\n",
    "                lcs[i][j] = lcs[i - 1][j - 1] + 1\n",
    "            else:\n",
    "                lcs[i][j] = max(lcs[i - 1][j], lcs[i][j - 1])\n",
    "\n",
    "    return lcs[m][n]\n",
    "\n",
    "\n",
    "text1 = \"ApqBCrDsEF\"\n",
    "text2 = \"tABuCvDEwxFyz\"\n",
    "result = longest_common_subsequence_with_gaps(text1, text2)\n",
    "print(\"Najdłuższy wspólny podciąg z przerwami dla\", text1, \"i\", text2, \"wynosi:\", result)\n"
   ]
  },
  {
   "cell_type": "code",
   "execution_count": null,
   "id": "b1f4a0b2-98d7-4e52-a4e0-bba0c5c4356c",
   "metadata": {},
   "outputs": [],
   "source": []
  }
 ],
 "metadata": {
  "kernelspec": {
   "display_name": "Python 3 (ipykernel)",
   "language": "python",
   "name": "python3"
  },
  "language_info": {
   "codemirror_mode": {
    "name": "ipython",
    "version": 3
   },
   "file_extension": ".py",
   "mimetype": "text/x-python",
   "name": "python",
   "nbconvert_exporter": "python",
   "pygments_lexer": "ipython3",
   "version": "3.12.0"
  }
 },
 "nbformat": 4,
 "nbformat_minor": 5
}
